{
  "nbformat": 4,
  "nbformat_minor": 0,
  "metadata": {
    "accelerator": "GPU",
    "colab": {
      "name": "Regression using neural network on sparse data.ipynb",
      "provenance": [],
      "collapsed_sections": [],
      "include_colab_link": true
    },
    "kernelspec": {
      "display_name": "Python 3",
      "name": "python3"
    }
  },
  "cells": [
    {
      "cell_type": "markdown",
      "metadata": {
        "id": "view-in-github",
        "colab_type": "text"
      },
      "source": [
        "<a href=\"https://colab.research.google.com/github/srishtysuman/NLP/blob/master/Regression_using_neural_network_on_sparse_data.ipynb\" target=\"_parent\"><img src=\"https://colab.research.google.com/assets/colab-badge.svg\" alt=\"Open In Colab\"/></a>"
      ]
    },
    {
      "cell_type": "code",
      "metadata": {
        "id": "1WA7QsAtGjJ1"
      },
      "source": [
        "from keras.models import Sequential\n",
        "from keras.layers import Dense\n",
        "from keras.wrappers.scikit_learn import KerasRegressor\n",
        "import tensorflow as tf\n",
        "from tensorflow.keras import regularizers\n",
        "from keras.layers import BatchNormalization\n",
        "from sklearn.preprocessing import MinMaxScaler\n",
        "from sklearn.decomposition import PCA\n",
        "from matplotlib import pyplot as plt\n",
        "from datetime import datetime\n",
        "import numpy as np\n",
        "import tensorflow as tf\n",
        "from keras.layers import Dropout\n",
        "from keras.regularizers import l2\n",
        "import keras"
      ],
      "execution_count": null,
      "outputs": []
    },
    {
      "cell_type": "code",
      "metadata": {
        "id": "H8_tp9-Lcfd8",
        "colab": {
          "base_uri": "https://localhost:8080/",
          "height": 35
        },
        "outputId": "b5de805d-cf64-4641-c560-caca760bc7dd"
      },
      "source": [
        "from google.colab import drive\n",
        "drive.mount('/content/drive')"
      ],
      "execution_count": null,
      "outputs": [
        {
          "output_type": "stream",
          "text": [
            "Drive already mounted at /content/drive; to attempt to forcibly remount, call drive.mount(\"/content/drive\", force_remount=True).\n"
          ],
          "name": "stdout"
        }
      ]
    },
    {
      "cell_type": "code",
      "metadata": {
        "id": "ZrBydi--cpSY",
        "colab": {
          "base_uri": "https://localhost:8080/",
          "height": 35
        },
        "outputId": "8e1770f2-a6dc-4e24-c915-b85d9a914728"
      },
      "source": [
        "%cd /content/drive/My\\ Drive/iisc_courses_autumn_2020/DL_with_NLP/assign/assign1"
      ],
      "execution_count": null,
      "outputs": [
        {
          "output_type": "stream",
          "text": [
            "/content/drive/My Drive/iisc_courses_autumn_2020/DL_with_NLP/assign/assign1\n"
          ],
          "name": "stdout"
        }
      ]
    },
    {
      "cell_type": "code",
      "metadata": {
        "id": "xaKTiUZR-9ps",
        "colab": {
          "base_uri": "https://localhost:8080/",
          "height": 107
        },
        "outputId": "8fc88ef9-5338-4a41-9976-3385185631d2"
      },
      "source": [
        "start=datetime.now()\n",
        "f = open(\"train.x.mm\", \"r\")\n",
        "count=0\n",
        "train_x=np.zeros((1148,276223))\n",
        "for x in f:\n",
        "  if(count<2):\n",
        "    count+=1\n",
        "    continue  \n",
        "  i=int(x.split(' ')[0])\n",
        "  j=int(x.split(' ')[1])\n",
        "  k=float(x.split(' ')[2])\n",
        "  train_x[i,j]=k\n",
        "for i in range(1,3):\n",
        "  print(train_x[i])\n",
        "print(train_x.shape)\n",
        "train_X=train_x[1:,1:]\n",
        "print(train_X.shape)\n",
        "print(datetime.now()-start)"
      ],
      "execution_count": null,
      "outputs": [
        {
          "output_type": "stream",
          "text": [
            "[0. 3. 1. ... 0. 0. 0.]\n",
            "[0. 0. 1. ... 0. 0. 0.]\n",
            "(1148, 276223)\n",
            "(1147, 276222)\n",
            "0:00:09.997311\n"
          ],
          "name": "stdout"
        }
      ]
    },
    {
      "cell_type": "code",
      "metadata": {
        "id": "b3L8VNnGF58f",
        "colab": {
          "base_uri": "https://localhost:8080/",
          "height": 35
        },
        "outputId": "6b11f06f-a36d-455e-fd75-6986178a95fc"
      },
      "source": [
        "f=open(\"train.y.dat\",\"r\")\n",
        "train_Y=np.zeros((1147,1))\n",
        "count=0\n",
        "for x in f:\n",
        "  train_Y[count]=float(x)\n",
        "  count+=1\n",
        "train_Y.shape"
      ],
      "execution_count": null,
      "outputs": [
        {
          "output_type": "execute_result",
          "data": {
            "text/plain": [
              "(1147, 1)"
            ]
          },
          "metadata": {
            "tags": []
          },
          "execution_count": 16
        }
      ]
    },
    {
      "cell_type": "code",
      "metadata": {
        "id": "vbeag_CO8h8I"
      },
      "source": [
        "scaler_x = MinMaxScaler()\n",
        "#scaler_y = MinMaxScaler()\n",
        "scaler_x.fit(train_X)\n",
        "train_xscale=scaler_x.transform(train_X)\n",
        "#scaler_y.fit(train_Y)\n",
        "#train_yscale=scaler_y.transform(train_Y)\n",
        "train_yscale=train_Y\n",
        "#train_xscale=train_X"
      ],
      "execution_count": null,
      "outputs": []
    },
    {
      "cell_type": "code",
      "metadata": {
        "id": "CW7drIjAxuMK"
      },
      "source": [
        "#scaler_x=None\n",
        "#scaler_y=None\n",
        "train_x=None\n",
        "train_X=None\n",
        "train_Y=None\n",
        "train_y=None"
      ],
      "execution_count": null,
      "outputs": []
    },
    {
      "cell_type": "code",
      "metadata": {
        "id": "5j4wLT2PKmfw",
        "colab": {
          "base_uri": "https://localhost:8080/",
          "height": 53
        },
        "outputId": "65580fc1-3787-432b-de50-2fa998c00945"
      },
      "source": [
        "print(train_xscale[0])\n",
        "train_xscale[0].shape"
      ],
      "execution_count": null,
      "outputs": [
        {
          "output_type": "stream",
          "text": [
            "[0.23076923 0.06666667 0.33333333 ... 0.         0.         0.        ]\n"
          ],
          "name": "stdout"
        },
        {
          "output_type": "execute_result",
          "data": {
            "text/plain": [
              "(276222,)"
            ]
          },
          "metadata": {
            "tags": []
          },
          "execution_count": 19
        }
      ]
    },
    {
      "cell_type": "code",
      "metadata": {
        "id": "OD7PHEyqxMyJ",
        "colab": {
          "base_uri": "https://localhost:8080/",
          "height": 125
        },
        "outputId": "986d56b5-93f3-43a5-f055-b80cb768d648"
      },
      "source": [
        "start=datetime.now()\n",
        "f1 = open(\"dev.x.mm\", \"r\")\n",
        "count=0\n",
        "val_x=np.zeros((318,276223))\n",
        "\n",
        "for x in f1:\n",
        "  if(count<2):\n",
        "    count+=1\n",
        "    continue  \n",
        "  i=int(x.split(' ')[0])\n",
        "  j=int(x.split(' ')[1])\n",
        "  k=float(x.split(' ')[2])\n",
        "  val_x[i,j]=k\n",
        "for i in range(1,3):\n",
        "  print(val_x[i])\n",
        "print(val_x.shape)\n",
        "val_X=val_x[1:,1:]\n",
        "print(val_X.shape)\n",
        "print(datetime.now()-start)\n",
        "#val_x=None\n",
        "print(val_X[0])"
      ],
      "execution_count": null,
      "outputs": [
        {
          "output_type": "stream",
          "text": [
            "[0. 0. 2. ... 0. 0. 0.]\n",
            "[0. 0. 9. ... 0. 0. 0.]\n",
            "(318, 276223)\n",
            "(317, 276222)\n",
            "0:00:02.300469\n",
            "[0. 2. 0. ... 0. 0. 0.]\n"
          ],
          "name": "stdout"
        }
      ]
    },
    {
      "cell_type": "code",
      "metadata": {
        "id": "7iCkZW6ayX9-"
      },
      "source": [
        "f=open(\"dev.y.dat\",\"r\")\n",
        "val_Y=np.zeros((317,1))\n",
        "count=0\n",
        "for x in f:\n",
        "  val_Y[count]=float(x)\n",
        "  count+=1\n",
        "print(val_Y.shape)\n",
        "print(val_Y)"
      ],
      "execution_count": null,
      "outputs": []
    },
    {
      "cell_type": "code",
      "metadata": {
        "id": "-5dKu7259BeQ"
      },
      "source": [
        "val_xscale=scaler_x.transform(val_X)\n",
        "#val_yscale=scaler_y.transform(val_Y)\n",
        "#val_xscale=val_X\n",
        "val_yscale=val_Y\n",
        "val_Y=None\n",
        "val_X=None"
      ],
      "execution_count": null,
      "outputs": []
    },
    {
      "cell_type": "code",
      "metadata": {
        "id": "jjy5VS2rG-xX"
      },
      "source": [
        "#pca = PCA(n_components=1147)\n",
        "#pca.fit(train_xscale)\n",
        "\n",
        "#plt.plot(np.cumsum(pca.explained_variance_ratio_))\n",
        "#plt.xlabel('Number of components')\n",
        "#plt.ylabel('Cumulative explained variance')"
      ],
      "execution_count": null,
      "outputs": []
    },
    {
      "cell_type": "code",
      "metadata": {
        "id": "uh7XkBhMKUcW"
      },
      "source": [
        "NCOMPONENTS = 1000\n",
        "\n",
        "pca = PCA(n_components=NCOMPONENTS)\n",
        "train_xscale1 = pca.fit_transform(train_xscale)\n",
        "val_xscale1 = pca.transform(val_xscale)\n",
        "pca_std = np.std(train_xscale1)\n"
      ],
      "execution_count": null,
      "outputs": []
    },
    {
      "cell_type": "code",
      "metadata": {
        "id": "jvG1E1Hk3FL7"
      },
      "source": [
        "from keras.layers import Activation"
      ],
      "execution_count": null,
      "outputs": []
    },
    {
      "cell_type": "code",
      "metadata": {
        "id": "Edwi_dm3UTpE"
      },
      "source": [
        "initializer = tf.keras.initializers.RandomUniform(minval=0., maxval=1000.)\n",
        "model = Sequential()\n",
        "\n",
        "#model.add(Dropout(0.2, input_shape=(1000,)))\n",
        "#model.add(Dense(1000,kernel_initializer='random_normal',kernel_regularizer=l2(0.001)))\n",
        "#model.add(BatchNormalization())\n",
        "#model.add(Activation('tanh'))\n",
        "model.add(Dense(1000, input_dim=1000, activation='relu',kernel_initializer='random_normal',kernel_regularizer=l2(0.001)))\n",
        "#model.add(BatchNormalization())\n",
        "#model.add(Dense(1000,kernel_initializer='random_normal',kernel_regularizer=l2(0.001)))\n",
        "#model.add(BatchNormalization())\n",
        "#model.add(Activation('tanh'))\n",
        "#model.add(Dense(1000, activation='relu',kernel_initializer='random_normal',kernel_regularizer=l2(0.001)))\n",
        "#model.add(Dense(600, activation='relu',kernel_initializer='he_uniform'))\n",
        "#model.add(Dense(500, activation='relu',kernel_initializer='he_uniform',kernel_regularizer=l2(0.001)))\n",
        "#model.add(Dense(500,kernel_initializer='random_normal',kernel_regularizer=l2(0.001)))\n",
        "#model.add(BatchNormalization())\n",
        "#model.add(Activation('tanh'))\n",
        "#model.add(BatchNormalization())\n",
        "\n",
        "#model.add(BatchNormalization())\n",
        "model.add(Dense(1, activation='linear',kernel_initializer='normal'))"
      ],
      "execution_count": null,
      "outputs": []
    },
    {
      "cell_type": "code",
      "metadata": {
        "id": "Vd_CaikoUme9"
      },
      "source": [
        "opt = keras.optimizers.Adam(learning_rate=0.01)\n",
        "model.compile(loss='mean_squared_error', optimizer=opt, metrics=['mean_absolute_error'])"
      ],
      "execution_count": null,
      "outputs": []
    },
    {
      "cell_type": "code",
      "metadata": {
        "id": "kI3avT2yvLdw"
      },
      "source": [
        "history=model.fit(train_xscale1, train_yscale, validation_data=(val_xscale1,val_yscale), epochs=1000, batch_size=128)"
      ],
      "execution_count": null,
      "outputs": []
    },
    {
      "cell_type": "code",
      "metadata": {
        "id": "CltsZ7tSvGiw"
      },
      "source": [
        "print(model.predict(val_xscale1))"
      ],
      "execution_count": null,
      "outputs": []
    },
    {
      "cell_type": "code",
      "metadata": {
        "id": "-4nyQmFr6hcW"
      },
      "source": [
        "plt.plot(history.history['mean_absolute_error'], label='train')\n",
        "plt.plot(history.history['val_mean_absolute_error'], label='val')\n",
        "plt.legend()\n",
        "plt.show()"
      ],
      "execution_count": null,
      "outputs": []
    },
    {
      "cell_type": "code",
      "metadata": {
        "id": "aoGbuk6fzKRz"
      },
      "source": [
        "plt.plot(history.history['mean_absolute_error'], label='train')\n",
        "plt.plot(history.history['val_mean_absolute_error'], label='val')\n",
        "plt.legend()\n",
        "plt.show()"
      ],
      "execution_count": null,
      "outputs": []
    },
    {
      "cell_type": "code",
      "metadata": {
        "id": "tcvfDYQjTIin"
      },
      "source": [
        "plt.plot(history.history['mean_absolute_error'], label='train')\n",
        "plt.plot(history.history['val_mean_absolute_error'], label='val')\n",
        "plt.legend()\n",
        "plt.show()"
      ],
      "execution_count": null,
      "outputs": []
    },
    {
      "cell_type": "code",
      "metadata": {
        "id": "Z_gy4himPmUU"
      },
      "source": [
        "plt.plot(history.history['mean_absolute_error'], label='train')\n",
        "plt.plot(history.history['val_mean_absolute_error'], label='val')\n",
        "plt.legend()\n",
        "plt.show()"
      ],
      "execution_count": null,
      "outputs": []
    },
    {
      "cell_type": "code",
      "metadata": {
        "id": "9PpR77RYPpNT"
      },
      "source": [
        "history.model['']"
      ],
      "execution_count": null,
      "outputs": []
    },
    {
      "cell_type": "code",
      "metadata": {
        "id": "URQ2Yw3l-UE7",
        "colab": {
          "base_uri": "https://localhost:8080/",
          "height": 269
        },
        "outputId": "37452143-8dae-4743-80eb-5a25c6abfe6f"
      },
      "source": [
        "plt.plot(history.history['mean_absolute_error'], label='train')\n",
        "plt.plot(history.history['val_mean_absolute_error'], label='val')\n",
        "plt.legend()\n",
        "plt.show()"
      ],
      "execution_count": null,
      "outputs": [
        {
          "output_type": "display_data",
          "data": {
            "image/png": "[encoded data removed]",
            "text/plain": [
              "<Figure size 432x288 with 1 Axes>"
            ]
          },
          "metadata": {
            "tags": [],
            "needs_background": "light"
          }
        }
      ]
    },
    {
      "cell_type": "code",
      "metadata": {
        "id": "YHjHywcTAWc2",
        "colab": {
          "base_uri": "https://localhost:8080/",
          "height": 269
        },
        "outputId": "a3b3c9f1-82af-4f17-d8a4-87dd3f6fe40d"
      },
      "source": [
        "plt.plot(history.history['mean_absolute_error'], label='train')\n",
        "plt.plot(history.history['val_mean_absolute_error'], label='val')\n",
        "plt.legend()\n",
        "plt.show()"
      ],
      "execution_count": null,
      "outputs": [
        {
          "output_type": "display_data",
          "data": {
            "image/png": "[encoded data removed]",
            "text/plain": [
              "<Figure size 432x288 with 1 Axes>"
            ]
          },
          "metadata": {
            "tags": [],
            "needs_background": "light"
          }
        }
      ]
    },
    {
      "cell_type": "markdown",
      "metadata": {
        "id": "lbPCGU-WIMjR"
      },
      "source": [
        "Not only do you need normalisation, but you should apply the exact same scaling as for your training data. That means storing the scale and offset used with your training data, and using that again. A common beginner mistake is to separately normalise your train and test data.\n",
        "\n",
        "In Python and SKLearn, you might normalise your input/X values using the Standard Scaler like this:\n",
        "\n",
        "scaler = StandardScaler()\n",
        "train_X = scaler.fit_transform( train_X )\n",
        "test_X = scaler.transform( test_X )\n",
        "Note how the conversion of train_X using a function which fits (figures out the params) then normalises. Whilst the test_X conversion just transforms, using the same params that it learned from the train data."
      ]
    },
    {
      "cell_type": "code",
      "metadata": {
        "id": "pTMxJhK1dEXQ"
      },
      "source": [
        "model = Sequential()\n",
        "model.add(Dropout(0.2, input_shape=(1000,)))\n",
        "model.add(Dense(32, input_dim=1000, activation='relu',kernel_initializer='he_uniform', kernel_regularizer=l2(0.001)))\n",
        "model.add(BatchNormalization())\n",
        "model.add(Dense(32, activation='relu',kernel_initializer='he_uniform',kernel_regularizer=l2(0.001)))\n",
        "model.add(BatchNormalization())\n",
        "model.add(Dense(32, activation='relu',kernel_initializer='he_uniform'))\n",
        "model.add(BatchNormalization())\n",
        "\n",
        "model.add(Dense(64, activation='relu',kernel_initializer='he_uniform'))\n",
        "model.add(BatchNormalization())\n",
        "\n",
        "model.add(Dense(64, activation='relu',kernel_initializer='he_uniform'))\n",
        "model.add(BatchNormalization())\n",
        "model.add(Dense(32, activation='relu',kernel_initializer='he_uniform'))\n",
        "model.add(BatchNormalization())\n",
        "model.add(Dense(32, activation='relu',kernel_initializer='he_uniform'))\n",
        "model.add(BatchNormalization())\n",
        "\n",
        "#model.add(BatchNormalization())\n",
        "model.add(Dense(1, activation='linear',kernel_initializer='normal'))"
      ],
      "execution_count": null,
      "outputs": []
    },
    {
      "cell_type": "code",
      "metadata": {
        "id": "ve3hbSB6fG4f"
      },
      "source": [
        "opt = keras.optimizers.Adam(learning_rate=0.01)\n",
        "model.compile(loss='mean_squared_error', optimizer=opt, metrics=['mean_absolute_error'])"
      ],
      "execution_count": null,
      "outputs": []
    },
    {
      "cell_type": "code",
      "metadata": {
        "id": "g7LN4yX7uDKg"
      },
      "source": [
        "from IPython.display import clear_output\n",
        "class PlotLosses(keras.callbacks.Callback):\n",
        "    def on_train_begin(self, logs={}):\n",
        "        self.i = 0\n",
        "        self.x = []\n",
        "        self.losses = []\n",
        "        self.val_losses = []\n",
        "        \n",
        "        self.fig = plt.figure()\n",
        "        \n",
        "        self.logs = []\n",
        "\n",
        "    def on_epoch_end(self, epoch, logs={}):\n",
        "        \n",
        "        self.logs.append(logs)\n",
        "        self.x.append(self.i)\n",
        "        self.losses.append(logs.get('loss'))\n",
        "        self.val_losses.append(logs.get('val_loss'))\n",
        "        self.i += 1\n",
        "        \n",
        "        #clear_output(wait=True)\n",
        "        plt.plot(self.x, self.losses, label=\"loss\")\n",
        "        plt.plot(self.x, self.val_losses, label=\"val_loss\")\n",
        "        plt.legend()\n",
        "        plt.show();\n",
        "        \n",
        "plot_losses = PlotLosses()"
      ],
      "execution_count": null,
      "outputs": []
    },
    {
      "cell_type": "code",
      "metadata": {
        "id": "oF9ENgcxvD3h"
      },
      "source": [
        "history=model.fit(train_xscale1, train_yscale, validation_data=(val_xscale1,val_yscale),callbacks=[plot_losses], epochs=1000, batch_size=128)"
      ],
      "execution_count": null,
      "outputs": []
    },
    {
      "cell_type": "code",
      "metadata": {
        "id": "yF3ypPD_VgNK"
      },
      "source": [
        "# evaluate the keras model\n",
        "_, accuracy = model.evaluate(X, y)\n",
        "print('Accuracy: %.2f' % (accuracy*100))"
      ],
      "execution_count": null,
      "outputs": []
    },
    {
      "cell_type": "code",
      "metadata": {
        "id": "7IGuXIEZDsuu"
      },
      "source": [
        "#for i in range(1,1148):\n",
        " ##history=model.fit(train_xscale[:i,:], train_yscale[:i,:], validation_data=(val_xscale,val_yscale), epochs=100, batch_size=5)\n",
        "  #pyplot.plot(history.history['mean_absolute_error'], label='train')\n",
        "  #pyplot.plot(history.history['val_mean_absolute_error'], label='val')\n",
        "  #pyplot.legend()\n",
        "  #pyplot.show()"
      ],
      "execution_count": null,
      "outputs": []
    },
    {
      "cell_type": "code",
      "metadata": {
        "id": "A0BDtZ4wnDSo"
      },
      "source": [
        "from keras.layers import Conv1D, Flatten\n"
      ],
      "execution_count": null,
      "outputs": []
    },
    {
      "cell_type": "code",
      "metadata": {
        "id": "bbOcrigVml2A",
        "colab": {
          "base_uri": "https://localhost:8080/",
          "height": 305
        },
        "outputId": "2ab295b7-8363-488c-8ac1-7159effc8573"
      },
      "source": [
        "model = Sequential()\n",
        "model.add(Conv1D(128, 2, activation=\"relu\", input_shape=(1000, 1)))\n",
        "model.add(Flatten())\n",
        "model.add(Dense(64, activation=\"relu\"))\n",
        "model.add(Dense(1))\n",
        "#model.compile(loss=\"mse\", optimizer=\"adam\")\n",
        " \n",
        "model.summary()"
      ],
      "execution_count": null,
      "outputs": [
        {
          "output_type": "stream",
          "text": [
            "Model: \"sequential_3\"\n",
            "_________________________________________________________________\n",
            "Layer (type)                 Output Shape              Param #   \n",
            "=================================================================\n",
            "conv1d_2 (Conv1D)            (None, 999, 128)          384       \n",
            "_________________________________________________________________\n",
            "flatten_2 (Flatten)          (None, 127872)            0         \n",
            "_________________________________________________________________\n",
            "dense_4 (Dense)              (None, 64)                8183872   \n",
            "_________________________________________________________________\n",
            "dense_5 (Dense)              (None, 1)                 65        \n",
            "=================================================================\n",
            "Total params: 8,184,321\n",
            "Trainable params: 8,184,321\n",
            "Non-trainable params: 0\n",
            "_________________________________________________________________\n"
          ],
          "name": "stdout"
        }
      ]
    },
    {
      "cell_type": "code",
      "metadata": {
        "id": "Kn83yJgV5Qf9",
        "colab": {
          "base_uri": "https://localhost:8080/",
          "height": 53
        },
        "outputId": "d936a09e-0674-4dbd-8eab-5e5ae88b102e"
      },
      "source": [
        "train_xscale1 = train_xscale1.reshape(train_xscale1.shape[0], train_xscale1.shape[1], 1)\n",
        "val_xscale1 = val_xscale1.reshape(val_xscale1.shape[0], val_xscale1.shape[1], 1)\n",
        "print(train_xscale1.shape)\n",
        "print(val_xscale1.shape)"
      ],
      "execution_count": null,
      "outputs": [
        {
          "output_type": "stream",
          "text": [
            "(1147, 1000, 1)\n",
            "(317, 1000, 1)\n"
          ],
          "name": "stdout"
        }
      ]
    },
    {
      "cell_type": "code",
      "metadata": {
        "id": "9lO7Zqjin5oB"
      },
      "source": [
        "opt = keras.optimizers.Adam(learning_rate=0.01)\n",
        "model.compile(loss='mean_squared_error', optimizer=opt, metrics=['mean_absolute_error'])"
      ],
      "execution_count": null,
      "outputs": []
    },
    {
      "cell_type": "code",
      "metadata": {
        "id": "ibwAnb3onl4H"
      },
      "source": [
        "history=model.fit(train_xscale1, train_yscale, validation_data=(val_xscale1,val_yscale), epochs=1000, batch_size=5)"
      ],
      "execution_count": null,
      "outputs": []
    }
  ]
}