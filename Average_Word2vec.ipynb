{
  "nbformat": 4,
  "nbformat_minor": 0,
  "metadata": {
    "colab": {
      "name": "Average_Word2vec.ipynb",
      "provenance": []
    },
    "kernelspec": {
      "name": "python3",
      "display_name": "Python 3"
    }
  },
  "cells": [
    {
      "cell_type": "code",
      "metadata": {
        "id": "kDd86FwqclDi"
      },
      "source": [
        "!wget https://s3.amazonaws.com/dl4j-distribution/GoogleNews-vectors-negative300.bin.gz"
      ],
      "execution_count": null,
      "outputs": []
    },
    {
      "cell_type": "code",
      "metadata": {
        "id": "qt2GY0Y2cOiB"
      },
      "source": [
        "\n",
        "\n",
        "import gensim\n",
        "from gensim import utils\n",
        "import numpy as np\n",
        "from nltk import word_tokenize\n",
        "from nltk import download\n",
        "\n",
        "from keras.models import Sequential\n",
        "from keras.layers import Dense\n",
        "from sklearn.preprocessing import LabelEncoder\n",
        "from sklearn.preprocessing import StandardScaler\n"
      ],
      "execution_count": null,
      "outputs": []
    },
    {
      "cell_type": "code",
      "metadata": {
        "id": "XTjdKdIkcwUA"
      },
      "source": [
        "word_model = gensim.models.KeyedVectors.load_word2vec_format('GoogleNews-vectors-negative300.bin.gz', binary=True)\n"
      ],
      "execution_count": null,
      "outputs": []
    },
    {
      "cell_type": "code",
      "metadata": {
        "id": "pSMULYJbc4EO"
      },
      "source": [
        "download('punkt')\n",
        "def preprocess(text5):\n",
        "    text5 = text5.lower()\n",
        "    doc = word_tokenize(text5)\n",
        "    return doc\n",
        "\n"
      ],
      "execution_count": null,
      "outputs": []
    },
    {
      "cell_type": "code",
      "metadata": {
        "id": "t56Hm9yPdz-2"
      },
      "source": [
        "def document_vector(word2vec_model, doc):\n",
        "    doc = [word for word in doc if word in word2vec_model.vocab]\n",
        "    if(len(doc)==0):\n",
        "      return [0]*300\n",
        "    return np.mean(word2vec_model[doc], axis=0)\n",
        "\n"
      ],
      "execution_count": null,
      "outputs": []
    },
    {
      "cell_type": "code",
      "metadata": {
        "id": "cLawXxundPDK"
      },
      "source": [
        "file1 = open('Subj.x.train.txt', 'r',encoding='ISO-8859-1') \n",
        "texts = file1.readlines() "
      ],
      "execution_count": null,
      "outputs": []
    },
    {
      "cell_type": "code",
      "metadata": {
        "id": "JEwApy9UkzDz"
      },
      "source": [
        "file3 = open('Subj.x.test.txt', 'r',encoding='ISO-8859-1') \n",
        "texts2 = file3.readlines()"
      ],
      "execution_count": null,
      "outputs": []
    },
    {
      "cell_type": "code",
      "metadata": {
        "id": "ujK6W57VdYYZ"
      },
      "source": [
        "from sklearn.preprocessing import LabelEncoder\n",
        "\n",
        "file1 = open('Subj.y.train.txt', 'r') \n",
        "Lines = file1.readlines() \n",
        "count = 0\n",
        "target1=[]\n",
        "for line in Lines: \n",
        "    target1.append(line)\n",
        "le = LabelEncoder()\n",
        "le.fit([\"SUBJ\\n\",\"OBJ\\n\"])\n",
        "list(le.classes_)\n",
        "labels=le.transform(target1)\n",
        "labels[:29]"
      ],
      "execution_count": null,
      "outputs": []
    },
    {
      "cell_type": "code",
      "metadata": {
        "id": "UAStcm7TdfsJ"
      },
      "source": [
        "texts, y = texts, labels\n",
        "corpus = [preprocess(text) for text in texts]"
      ],
      "execution_count": null,
      "outputs": []
    },
    {
      "cell_type": "code",
      "metadata": {
        "id": "tF_lf1Uvk7Uk"
      },
      "source": [
        "test_corpus = [preprocess(text3) for text3 in texts2]"
      ],
      "execution_count": null,
      "outputs": []
    },
    {
      "cell_type": "code",
      "metadata": {
        "id": "Dj_S2ZAmdvhM"
      },
      "source": [
        "\n",
        "x =[]\n",
        "for doc in corpus: \n",
        "      x.append(document_vector(word_model, doc))\n",
        "X = np.array(x)\n",
        "X.shape, len(y)\n"
      ],
      "execution_count": null,
      "outputs": []
    },
    {
      "cell_type": "code",
      "metadata": {
        "id": "WCvkJ3QT5crw"
      },
      "source": [
        "X[90]"
      ],
      "execution_count": null,
      "outputs": []
    },
    {
      "cell_type": "code",
      "metadata": {
        "id": "PjF5dnglmTcf"
      },
      "source": [
        "test_x =[]\n",
        "for doc1 in test_corpus: \n",
        "    test_x.append(document_vector(word_model, doc1))\n",
        "test_X = np.array(test_x) \n",
        "np.savetxt('subjtest_documents_vectors2.txt', test_X)\n",
        "test_X.shape\n"
      ],
      "execution_count": null,
      "outputs": []
    },
    {
      "cell_type": "code",
      "metadata": {
        "id": "9wOqnpFsehGZ"
      },
      "source": [
        "from sklearn.model_selection import train_test_split\n",
        "import tensorflow as tf"
      ],
      "execution_count": null,
      "outputs": []
    },
    {
      "cell_type": "code",
      "metadata": {
        "id": "AMOLgY7WeHQ3"
      },
      "source": [
        "train_x=X\n",
        "train_y=y\n",
        "X_train, X_val, Y_train, Y_val = train_test_split(train_x, train_y, test_size=0.20, random_state=42)\n",
        "X_train = tf.convert_to_tensor(X_train, dtype=tf.float32)\n",
        "Y_train=tf.convert_to_tensor(Y_train, dtype=tf.float32)\n",
        "X_val = tf.convert_to_tensor(X_val, dtype=tf.float32)\n",
        "Y_val=tf.convert_to_tensor(Y_val, dtype=tf.float32)"
      ],
      "execution_count": null,
      "outputs": []
    },
    {
      "cell_type": "code",
      "metadata": {
        "id": "xbtyNJDlwKmG"
      },
      "source": [
        "from sklearn.linear_model import LogisticRegressionCV\n",
        "\n",
        "clf = LogisticRegressionCV(cv=6, max_iter=1000,random_state=0,multi_class='ovr').fit(X_train, Y_train)\n",
        "score = clf.score(X_val, Y_val)\n",
        "\n",
        "print(\"Accuracy:\", score)"
      ],
      "execution_count": null,
      "outputs": []
    },
    {
      "cell_type": "code",
      "metadata": {
        "id": "yizZiz66pBOL"
      },
      "source": [
        "from sklearn.preprocessing import StandardScaler\n",
        "scale=StandardScaler()\n",
        "scale.fit(X_train)\n",
        "X_train=scale.transform(X_train)\n",
        "X_val=scale.transform(X_val)"
      ],
      "execution_count": null,
      "outputs": []
    },
    {
      "cell_type": "code",
      "metadata": {
        "id": "xS2eNSkfd6Op"
      },
      "source": [
        "from sklearn.linear_model import LogisticRegression\n",
        "\n",
        "classifier = LogisticRegression(max_iter=1000,random_state=0,multi_class='ovr')\n",
        "classifier.fit(X_train, Y_train)\n",
        "score = classifier.score(X_val, Y_val)\n",
        "\n",
        "print(\"Accuracy:\", score)"
      ],
      "execution_count": null,
      "outputs": []
    },
    {
      "cell_type": "code",
      "metadata": {
        "id": "pGX5UBtDkZAt"
      },
      "source": [
        "X_test=tf.convert_to_tensor(test_X, dtype=tf.float32)"
      ],
      "execution_count": null,
      "outputs": []
    },
    {
      "cell_type": "code",
      "metadata": {
        "id": "UjHCq3qgMC86"
      },
      "source": [
        "ypred=clf.predict(X_test)"
      ],
      "execution_count": null,
      "outputs": []
    },
    {
      "cell_type": "code",
      "metadata": {
        "id": "XjI90mfUb4D0"
      },
      "source": [
        "COUNT=0\n",
        "for x in ypred:\n",
        "  if(x==0):\n",
        "    COUNT+=1\n",
        "\n",
        "print(COUNT)"
      ],
      "execution_count": null,
      "outputs": []
    },
    {
      "cell_type": "code",
      "metadata": {
        "id": "JPbfk4TNek4R"
      },
      "source": [
        "print(ypred[:300])"
      ],
      "execution_count": null,
      "outputs": []
    },
    {
      "cell_type": "code",
      "metadata": {
        "id": "7S8aP43EMITr"
      },
      "source": [
        "print(ypred[:50])"
      ],
      "execution_count": null,
      "outputs": []
    },
    {
      "cell_type": "code",
      "metadata": {
        "id": "gFmPn09c8yal"
      },
      "source": [
        "model = Sequential()\n",
        "model.add(Dense(300, input_dim=300, activation='relu'))\n",
        "model.add(Dense(1, activation='sigmoid'))"
      ],
      "execution_count": null,
      "outputs": []
    },
    {
      "cell_type": "code",
      "metadata": {
        "id": "f3Nal_sg81Dr"
      },
      "source": [
        "model.compile(loss='binary_crossentropy', optimizer='adam', metrics=['accuracy'])\n"
      ],
      "execution_count": null,
      "outputs": []
    },
    {
      "cell_type": "code",
      "metadata": {
        "id": "yJw7IsWB8345"
      },
      "source": [
        "history=model.fit(X_train, Y_train, validation_data=(X_val,Y_val), epochs=5, batch_size=10)"
      ],
      "execution_count": null,
      "outputs": []
    },
    {
      "cell_type": "code",
      "metadata": {
        "id": "ksmTCflK9kTK"
      },
      "source": [
        "o=model.evaluate(X_val,Y_val)"
      ],
      "execution_count": null,
      "outputs": []
    },
    {
      "cell_type": "code",
      "metadata": {
        "id": "fXqQdtnWlnk3"
      },
      "source": [
        "y_pred=model.predict_classes(X_test)"
      ],
      "execution_count": null,
      "outputs": []
    },
    {
      "cell_type": "code",
      "metadata": {
        "id": "qINwSzTlUjDZ"
      },
      "source": [
        "y_pred2=model.predict_classes(X_val)"
      ],
      "execution_count": null,
      "outputs": []
    },
    {
      "cell_type": "code",
      "metadata": {
        "id": "oUMH2AQPUmTK"
      },
      "source": [
        "print(y_pred)"
      ],
      "execution_count": null,
      "outputs": []
    },
    {
      "cell_type": "code",
      "metadata": {
        "id": "ee-6FmR4-kqx"
      },
      "source": [
        "count=0\n",
        "for x in ypred:\n",
        "  if(x==0):\n",
        "    count+=1\n",
        "print(count)"
      ],
      "execution_count": null,
      "outputs": []
    },
    {
      "cell_type": "code",
      "metadata": {
        "id": "jg7C8QWdlqm5"
      },
      "source": [
        "Y_test=[]\n",
        "for i in range(len(ypred)):\n",
        "  if(ypred[i]==0):\n",
        "    Y_test.append('OBJ')\n",
        "  else:\n",
        "    Y_test.append('SUBJ')\n"
      ],
      "execution_count": null,
      "outputs": []
    },
    {
      "cell_type": "code",
      "metadata": {
        "id": "c8i8OPJL9vPW"
      },
      "source": [
        "print(Y_test)"
      ],
      "execution_count": null,
      "outputs": []
    },
    {
      "cell_type": "code",
      "metadata": {
        "id": "jikqSz0oltFv"
      },
      "source": [
        "f1 = open(\"Subj.y.test.txt\", \"w\")\n",
        "for y in Y_test:\n",
        "  y1=str(y)\n",
        "  f1.write(str(y1))\n",
        "  f1.write(\"\\n\")"
      ],
      "execution_count": null,
      "outputs": []
    },
    {
      "cell_type": "code",
      "metadata": {
        "id": "_n_62mbjlwxP"
      },
      "source": [
        "f2=open(\"Subj.y.test.txt\",\"r\")\n",
        "count=1\n",
        "for x in f2:\n",
        "  print(count,x)\n",
        "  count+=1"
      ],
      "execution_count": null,
      "outputs": []
    }
  ]
}